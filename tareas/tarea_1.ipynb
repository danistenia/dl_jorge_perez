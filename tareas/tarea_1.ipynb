{
  "cells": [
    {
      "cell_type": "markdown",
      "metadata": {
        "id": "4zhjpqvcdo5o"
      },
      "source": [
        "# Tarea 1: Activaciones y pasada hacia adelante en una red neuronal <br/> CC6204 Deep Learning, Universidad de Chile\n",
        "\n",
        "**Fecha de entrega: 2 de octubre de 2020**\n",
        "\n",
        "[Hoja de Respuestas (con tests automáticos)](https://drive.google.com/file/d/1Xj_0rvpf3zXV69A9xWlohrL8068IrbqZ/view?usp=sharing)\n",
        "\n",
        "En las primeras tareas del curso **progamarás a mano** varios aspectos de redes neuronales Feed Forward. La idea es familiarizarse con tensores, funciones de activación, derivadas, el algoritmo de backpropagation, algoritmos de optimización, regularización, entrenamiento, y búsqueda de hiperparámetros. No se espera obtener excelentes resultados en problemas de clasificación reales, si no más bien aplicar los conceptos teóricos aprendidos en clases y así entenderlos de manera más precisa.  En esta primera tarea sólo nos preocupará la función `forward` de una red neuronal y usaremos una red pre-entrenada para el conjunto de datos MNIST.\n",
        "\n",
        "Te recomendamos que comiences por familiarizarte un poco con [tensores de pytorch](https://pytorch.org/docs/stable/tensors.html) y sus operaciones, que son el objeto básico que usaremos en esta y las siguientes tareas. El material necesario para resolver esta tarea es el siguiente:\n",
        "* [Video: Perceptrón, funciones de activación, y representación matricial](https://www.youtube.com/watch?v=mDCxK2Pu0mA)\n",
        "* [Video: MLP, redes feed-forward, y función de salida](https://www.youtube.com/watch?v=eV-N1ozcZrk&t=1710) (desde el minuto 28:30)\n",
        "* [Apuntes de Redes Feed Forward](https://github.com/jorgeperezrojas/cc6204-DeepLearning-DCCUChile/raw/master/2019/clases/apuntes/1_FFNN.pdf)\n",
        "\n",
        "IMPORTANTE: A menos que se exprese lo contrario, sólo podrás utilizar las clases y funciones en el módulo [`torch`](https://pytorch.org/docs/stable/torch.html). Hay excepciones explicadas en el enunciado de la tarea más adelante.\n",
        "\n",
        "(por Jorge Pérez, https://github.com/jorgeperezrojas, [@perez](https://twitter.com/perez))\n"
      ]
    },
    {
      "cell_type": "code",
      "execution_count": 1,
      "metadata": {
        "id": "I_kVL7undMBx"
      },
      "outputs": [],
      "source": [
        "# Este notebook está pensado para correr en CoLaboratory.\n",
        "# Lo único imprescindible por importar es torch\n",
        "import torch\n",
        "\n",
        "# Posiblemenete quieras instalar e importar ipdb para debuggear.\n",
        "# Si es así, descomenta lo siguiente:\n",
        "# !pip install -q ipdb\n",
        "# import ipdb"
      ]
    },
    {
      "cell_type": "markdown",
      "metadata": {
        "id": "2xbEy3Php0a2"
      },
      "source": [
        "# Parte 1: Funciones de activación y función de salida\n",
        "\n",
        "En esta parte programarás varias funciones que serán de utilidad cuando construyas tu red neuronal. Una cosa **muy importante en esta y las siguientes partes**: evita los loops (`for`, `while`, etc.) a toda costa! todo lo que se pueda hacer con operaciones de tensores sin iterar será muy eficiente (en CPU y GPU)."
      ]
    },
    {
      "cell_type": "markdown",
      "metadata": {
        "id": "p3nKwdzpqF2y"
      },
      "source": [
        "## 1a) Funciones de activación\n",
        "\n",
        "En esta parte debes programar las siguientes funciones de activación:\n",
        "\n",
        "*   `relu`, que para cada valor $x$ en un tensor computa el máximo entre $0$ y $x$,  \n",
        "*   `swish`, propuesta en el artículo [Searching for Activation Functions](https://arxiv.org/abs/1710.05941), y\n",
        "*   `celu`, propuesta en el artículo [Continuously Differentiable Exponential Linear Units](https://arxiv.org/abs/1704.07483).\n",
        "\n",
        "En cada caso tu función debe recibir un tensor (de cualquier cantidad de dimensiones) y entregar otro tensor con la función aplicada a todos sus elementos. La aplicación de las funciones debe ser *punto a punto*, por lo que el tensor de salida de cada función debe tener las mismas dimensiones que el tensor de entrada. **Importante**:  tanto `swish` como `celu` tienen un parámetro que puede modificarse durante el entrenamiento de una red que utilice estas funciones de activación por lo que para estas funciones además del tensor debes recibir el parámetro correspondiente.\n",
        "\n",
        "Como ejemplo, estas son implementaciones de las funciones `sig` y `tanh`."
      ]
    },
    {
      "cell_type": "code",
      "execution_count": 5,
      "metadata": {
        "id": "p80-9lwaUAix"
      },
      "outputs": [
        {
          "name": "stdout",
          "output_type": "stream",
          "text": [
            "Sigmoid activation function: tensor([1.0000, 1.0000, 1.0000])\n",
            "Tangente activation function: tensor([1., nan, 1.])\n"
          ]
        }
      ],
      "source": [
        "def sig(T):\n",
        "  return torch.reciprocal(1 + torch.exp(-1 * T))\n",
        "\n",
        "def tanh(T):\n",
        "  E = torch.exp(T)\n",
        "  e = torch.exp(-1 * T)\n",
        "  return (E - e) * torch.reciprocal(E + e)\n",
        "\n",
        "# Just testing functions: torch.tensor() creates a tensor with a list, tuple, Numpy ndarray, scalar and other types\n",
        "\n",
        "tensor = (15, 100, 50)\n",
        "print(\"Sigmoid activation function:\", sig(torch.tensor(tensor)))\n",
        "print(\"Tangente activation function:\", tanh(torch.tensor(tensor)))"
      ]
    },
    {
      "cell_type": "code",
      "execution_count": 22,
      "metadata": {
        "id": "4VtQWFePbtrF"
      },
      "outputs": [
        {
          "name": "stdout",
          "output_type": "stream",
          "text": [
            "tensor([-0.7543, -0.8142, -1.0172, -0.5229])\n",
            "Relu tensor([0., 0., 0., 0.])\n",
            "Swish tensor([-0.2667, -0.2790, -0.3124, -0.2075])\n",
            "Celu tensor([-0.5297, -0.5570, -0.6384, -0.4072])\n"
          ]
        }
      ],
      "source": [
        "# Tu código acá\n",
        "\n",
        "input_tensor = torch.randn(4)\n",
        "\n",
        "\n",
        "def relu(T):\n",
        "  return torch.relu(T)\n",
        "\n",
        "def swish(T, beta):\n",
        "   return T * torch.reciprocal(1 + torch.exp(-1 * T * beta))\n",
        "\n",
        "def celu(T, alpha):\n",
        "   m = torch.nn.CELU()\n",
        "   return m(T)\n",
        "print(input_tensor)\n",
        "print(\"Relu\", relu(input_tensor))\n",
        "print(\"Swish\", swish(input_tensor, beta=0.8))\n",
        "print(\"Celu\", celu(input_tensor, alpha=2))"
      ]
    },
    {
      "cell_type": "markdown",
      "metadata": {
        "id": "adagNIVPp0fF"
      },
      "source": [
        "## 1b) Softmax\n",
        "\n",
        "En esta parte debes programar la función `softmax`. Esta es una función tal que para una secuencia de valores $(x_1,\\ldots,x_n)$  el resultado de $\\text{softmax}(x_1,\\ldots,x_n)$ es otra secuencia $(s_1,\\ldots,s_n)$ que cumple con\n",
        "\\begin{equation}\n",
        "s_i = \\frac{e^{x_i}}{\\sum_{j=1}^{n}e^{x_j}}\n",
        "\\end{equation}\n",
        "Para esto primero demuestra que si a cada elemento de $(x_1,\\ldots,x_n)$ se le resta el mismo valor, entonces el resultado de `softmax` no varía. Es decir que $\\text{softmax}(x_1-M,\\ldots,x_n-M)=\\text{softmax}(x_1,\\ldots,x_n)$. Usa este hecho para programar una versión de `softmax` que primero le resta a todos los elementos el máximo valor de la secuencia. Esta nueva versión debiera ser numéricamente más estable.\n",
        "\n",
        "Tu función debe recibir un tensor y el resultado de `softmax` debiera calcularse sobre alguna dimensión del tensor dejando todas las demás dimensiones fijas. Para esto tu función debe también recibir el parámetro `dim` (que indica la dimensión). El resultado de `softmax` se calculará para cada secuencia de valores obtenidos recorriendo la dimensión `dim` fijando las otras dimensiones. Por ejemplo, si `softmax` recibe un tensor de dos dimensiones $T_{ij}$ y se elige la dimensión $1$, entonces se debe computar $\\text{softmax}(T_{i1},\\ldots,T_{in})$ para cada $i$. Note que en este caso se calculó `softmax` sobre la dimensión $1$ (la segunda dimensión) dejando fija la dimensión $0$ (la primera dimensión). Como otro ejemplo, si el input de la función es un tensor de tres dimensiones $T_{ijk}$ y se elige la dimensión $2$ (tercera dimensión), entonces se debe computar $\\text{softmax}(T_{ij1},\\ldots,T_{ijn})$ para cada par $i$, $j$. Por si estás familiarizado con `numpy`, el uso de `dim` en esta parte es muy similar al de `axis` en `numpy`.\n",
        "\n",
        "Nota que el resultado de `softmax` es siempre un tensor de las mismas dimensiones de la entrada."
      ]
    },
    {
      "cell_type": "markdown",
      "metadata": {
        "id": "XmJjtSKdqIic"
      },
      "source": [
        "(La demostración puedes entregarla en otro archivo o incluirla directamente en una celda de la [hoja de respuestas](https://drive.google.com/file/d/1NANjiWP7fWyRBWOf2Pp2gkpRkXheB54s/view?usp=sharing))"
      ]
    },
    {
      "cell_type": "code",
      "execution_count": 89,
      "metadata": {},
      "outputs": [
        {
          "data": {
            "text/plain": [
              "tensor([[0.0024, 0.0024, 0.0024],\n",
              "        [0.0473, 0.0473, 0.0473],\n",
              "        [0.9503, 0.9503, 0.9503]])"
            ]
          },
          "execution_count": 89,
          "metadata": {},
          "output_type": "execute_result"
        }
      ],
      "source": [
        "input_tensor = torch.tensor([\n",
        "    [1, 2, 3], \n",
        "    [4, 5, 6],\n",
        "    [7, 8, 9]\n",
        "], dtype=torch.float32)\n",
        "\n",
        "sm = torch.nn.Softmax(dim=0)\n",
        "sm(input_tensor)"
      ]
    },
    {
      "cell_type": "code",
      "execution_count": 87,
      "metadata": {},
      "outputs": [
        {
          "data": {
            "text/plain": [
              "tensor(0.0024)"
            ]
          },
          "execution_count": 87,
          "metadata": {},
          "output_type": "execute_result"
        }
      ],
      "source": [
        "torch.exp(torch.tensor(1)) / (torch.exp(torch.tensor(1)) + torch.exp(torch.tensor(4)) + torch.exp(torch.tensor(7)))\n"
      ]
    },
    {
      "cell_type": "code",
      "execution_count": 88,
      "metadata": {},
      "outputs": [
        {
          "data": {
            "text/plain": [
              "tensor(2.7183)"
            ]
          },
          "execution_count": 88,
          "metadata": {},
          "output_type": "execute_result"
        }
      ],
      "source": [
        "torch.exp(torch.tensor(1))"
      ]
    },
    {
      "cell_type": "code",
      "execution_count": 85,
      "metadata": {},
      "outputs": [
        {
          "data": {
            "text/plain": [
              "tensor(0.0474)"
            ]
          },
          "execution_count": 85,
          "metadata": {},
          "output_type": "execute_result"
        }
      ],
      "source": [
        "# Manual softmax\n",
        "\n",
        "torch.exp(torch.tensor(1)) / (torch.exp(torch.tensor(1)) + torch.exp(torch.tensor(4)))\n",
        "\n",
        "# + torch.exp(torch.tensor(3))"
      ]
    },
    {
      "cell_type": "code",
      "execution_count": 58,
      "metadata": {},
      "outputs": [
        {
          "name": "stdout",
          "output_type": "stream",
          "text": [
            "tensor([[[0.7635, 0.6545],\n",
            "         [0.2487, 0.5956]],\n",
            "\n",
            "        [[0.9523, 0.8697],\n",
            "         [0.6787, 0.2303]]]) 3\n"
          ]
        },
        {
          "data": {
            "text/plain": [
              "0"
            ]
          },
          "execution_count": 58,
          "metadata": {},
          "output_type": "execute_result"
        }
      ],
      "source": [
        "# Dim examples\n",
        "\n",
        "input_tensor = torch.rand((2, 2, 2))\n",
        "print(input_tensor, input_tensor.dim())\n",
        "torch.tensor(1).dim()"
      ]
    },
    {
      "cell_type": "code",
      "execution_count": 38,
      "metadata": {
        "cellView": "code",
        "id": "5hVvsHp-dGk4"
      },
      "outputs": [
        {
          "name": "stdout",
          "output_type": "stream",
          "text": [
            "tensor([0.3053, 0.4915, 0.8570, 0.0968])\n",
            "tensor([0.2104, 0.2535, 0.3653, 0.1708])\n",
            "tensor([0.2104, 0.2535, 0.3653, 0.1708])\n"
          ]
        }
      ],
      "source": [
        "# Demostración\n",
        "\n",
        "input_tensor = torch.rand(4)\n",
        "print(input_tensor)\n",
        "\n",
        "standard_softmax = torch.nn.Softmax()(input_tensor)\n",
        "softmax_minus = torch.nn.Softmax()(input_tensor-1)\n",
        "print(standard_softmax)\n",
        "print(softmax_minus)\n",
        "# Tu código acá\n",
        "\n",
        "# def softmax(T, dim, estable=True):\n",
        "#   pass"
      ]
    },
    {
      "cell_type": "code",
      "execution_count": null,
      "metadata": {},
      "outputs": [],
      "source": [
        "def softmax(T, dim, estable=True):\n",
        "    \n",
        "    # Prueba de Softmax\n",
        "    "
      ]
    },
    {
      "cell_type": "markdown",
      "metadata": {
        "id": "2m3i_1ijPLr_"
      },
      "source": [
        "# Parte 2: Red neuronal y pasada hacia adelante (forward)\n",
        "\n",
        "En esta parte empezaremos a programar nuestra red neuronal, en particular la pasada hacia adelante para una red que resolverá problemas de clasificación con varias clases. Supondremos que cada capa se verá de la forma\n",
        "\\begin{equation}\n",
        "h^{(\\ell)} = f^{(\\ell)}(h^{(\\ell-1)} W^{(\\ell)}+b^{(\\ell)})\n",
        "\\end{equation}\n",
        "y que la predicción final estará dada por\n",
        "\\begin{equation}\n",
        "\\hat{y} = \\text{softmax}(h^{(L)}U+c).\n",
        "\\end{equation}\n",
        "\n",
        "(Para entender los detalles de estas fórmulas puedes ver los [apuntes de redes feed forward](https://github.com/jorgeperezrojas/cc6204-DeepLearning-DCCUChile/raw/master/2019/clases/apuntes/1_FFNN.pdf).)"
      ]
    },
    {
      "cell_type": "markdown",
      "metadata": {
        "id": "E_1cvyD9PiMY"
      },
      "source": [
        "## 2a) Clase para red neuronal\n",
        "\n",
        "Programa una clase `FFNN` que en su inicializador reciba los siguientes parámetros:\n",
        "\n",
        "*   Cantidad de neuronas de la capa de entrada `F`\n",
        "*   Lista de cantidades de neuronas en cada capa escondida `l_h`\n",
        "*   Lista de funciones de activación `l_a`\n",
        "*   Cantidad de neuronas de la capa de salida `C` (`C` $\\geq 2$)\n",
        "\n",
        "En pytorch, todas las redes neuronales que construyamos deben construirse como subclases de [`torch.nn.Module`](https://pytorch.org/docs/stable/nn.html#torch.nn.Module), lo que tendrá varias ventajas que explicaremos después. El inicio de tu código debe verse más o menos así:\n",
        "\n",
        "```python\n",
        "class FFNN(torch.nn.Module):\n",
        "  def __init__(self, ...):\n",
        "    super(FFNN, self).__init__()\n",
        "```\n",
        "\n",
        "El inicializador de tu clase debería crear todos los parámetros para la red como tensores (`torch.tensor`) de las dimensiones correspondientes, y almacenar lo necesario para poder computar la pasada hacia adelante (siguiente parte). Para poder aprovechar las funcionalidades de pytorch, debes **registrar** los parámetros como tales y para esto debes usar la clase [`torch.nn.Parameter`](https://pytorch.org/docs/stable/nn.html#torch.nn.Parameter). Por ahora, para nosotros un parámetro de la red definido con `torch.nn.Parameter` no es nada mas que un tensor y en esta tarea lo usaremos como eso, es decir, utilizando solo las funciones básicas de [`torch.Tensor`](https://pytorch.org/docs/stable/tensors.html). El siguiente trozo de código crea un tensor de 100 x 100 con solo zeros y lo registra como parámetro en la red.\n",
        "\n",
        "```python\n",
        "class FFNN(torch.nn.Module):\n",
        "  def __init__(self, ...):\n",
        "    super(FFNN, self).__init__()\n",
        "    T = torch.zeros(100,100)\n",
        "    self.mi_parametro = torch.nn.Parameter(T)\n",
        "```\n",
        "\n",
        "Inicializa todos los parámetros con números aleatorios pequeños y los sesgos como 0. No olvides definir los parámetros como artibutos de la clase para que otros métodos de la clase tengan acceso a ellos también. En tu caso, como tendrás una cantidad variables de parámetros, debes usar una [torch.nn.ParameterList](https://pytorch.org/docs/stable/nn.html#torch.nn.ParameterList) para agregar los parámetros, que estos queden todos registrados y que las otras funciones tengan acceso a ellos.\n",
        "\n",
        "Una llamada de ejemplo para crear un objeto de tu clase es:\n",
        "```python\n",
        "red_neuronal = FFNN(300,[50,30],[relu,sig],10)\n",
        "```\n",
        "lo que debiera crear todos los parámetros para una red con 300 neuronas en la capa de entrada, luego una capa escondida de 50 neuronas con activación relu, luego una capa con 30 neuronas y activación sigmoid y finalmente una capa de 10 neuronas de salida. <br><br>\n",
        "\n",
        "Puedes agregarle al inicializador de tu clase todos los parámetros opcionales que estimes conveniente, y construir las funciones que te parezcan importantes de construir. Por ejemplo, es recomendable tener alguna forma de asignar los valores iniciales de los parámetros de la red, lo que servirá por ejemplo para cargar redes pre-entrenadas, inicializar los valores de manera más efectiva, o para hacer debugging del código. También puedes pedir los valores iniciales de los parámetros adicionales de las funciones `celu` y `swish`  (no olvides registrarlos como parámetros también!)."
      ]
    },
    {
      "cell_type": "code",
      "execution_count": null,
      "metadata": {
        "id": "eW3fhiQPTMLT"
      },
      "outputs": [],
      "source": [
        "# Tu código debiera comenzar así (ojo que acá solo empieza el código,\n",
        "# lo iremos completando más adelante).\n",
        "\n",
        "class FFNN(torch.nn.Module):\n",
        "  def __init__(self, F, l_h, l_a, C):\n",
        "    super(FFNN, self).__init__()\n",
        "    pass"
      ]
    },
    {
      "cell_type": "markdown",
      "metadata": {
        "id": "S1TdSMX8XJD5"
      },
      "source": [
        "## 2b) Iterando por los parámetros\n",
        "\n",
        "Uno de los puntos positivos de construir una red en pytorch desde `torch.nn.Module` y registrar los parámetros usando `torch.nn.Parameter` es que puedes tener acceso a un \"iterador\" sobre todos los parámetros llamando a `.parameters()` (esto será muy importante más adelante cuando veamos el algoritmo de backpropagation). Usa este iterador para mostrar/imprimir un resumen de los parámetros de tu red. Debes mostrar al menos las dimensiones de cada uno de los parámetros. Puede serte útil usar el iterador `.named_parameters()` también\n",
        "\n",
        "\n"
      ]
    },
    {
      "cell_type": "code",
      "execution_count": null,
      "metadata": {
        "id": "0fGGVBrtX2xx"
      },
      "outputs": [],
      "source": [
        "# Tu código debiera continuar así\n",
        "\n",
        "class FFNN(torch.nn.Module):\n",
        "  def __init__(self, F, l_h, l_a, C):\n",
        "    super(FFNN, self).__init__()\n",
        "    pass\n",
        "\n",
        "  def resumen(self):\n",
        "    # usa self.parameters() o self.named_parameters()\n",
        "    pass"
      ]
    },
    {
      "cell_type": "markdown",
      "metadata": {
        "id": "xbDabd2LMQCx"
      },
      "source": [
        "## 2c) Moviendo los parámetros de la red entre dispositivos\n",
        "\n",
        "Otro de los puntos positivos de construir una red en pytorch desde `torch.nn.Module` y registrar los parámetros usando `torch.nn.Parameter` es que puedes mover tu red completa entre la CPU y la GPU de manera muy simple. De hecho, como subclase de `torch.nn.Module` podemos usar el método `.to(device)`, de la siguiente forma. Si haces esto:\n",
        "```python\n",
        "red_neuronal = FFNN(300,[50,30],[relu,sig],10)\n",
        "red_neuronal.to('cuda')\n",
        "```\n",
        "tu red pasa automáticamente a la GPU, lo que significa que todos los parámetros de la red quedan efectivamente almacenados en la memoria de la GPU. Para devolver los parámetros a la CPU puedes simplemente hacer\n",
        "```python\n",
        "red_neuronal.to('cpu')\n",
        "```\n",
        "También puedes usar directamente los métodos `.cuda()` y `.cpu()` para lograr los mismo efectos descritos anteriormente.\n",
        "\n",
        "En esta parte no debes programar nada nuevo, solo comprueba que todo anda bien ejecutando las llamadas anteriores y comprobando que efectivamente la memoria de la GPU se utiliza cuando haces la llamada `to.('cuda')`.\n"
      ]
    },
    {
      "cell_type": "code",
      "execution_count": null,
      "metadata": {
        "id": "fTgxEjzjMPj6"
      },
      "outputs": [],
      "source": [
        "# Crea una red (idealmente grande), y verifica que puedes pasar\n",
        "# todos los parámetros a la GPU ejecutando !nvidia-smi para chequear\n",
        "# la cantidad de GPU-RAM utilizada."
      ]
    },
    {
      "cell_type": "markdown",
      "metadata": {
        "id": "kUk5lUM8TtBL"
      },
      "source": [
        "## 2d) Pasada hacia adelante\n",
        "\n",
        "Programa la pasada hacia adelante de tu red neuronal en el método `forward` de la clase `FFNN`. La función debiera recibir un tensor de dimensiones `(B,F)` como entrada donde `B` es el tamaño del mini paquete de ejemplos pasados a tu red, y `F` la cantidad de *features* de cada ejemplo. Para computar la pasada hacia adelante, tu red debiera usar los parámetros creados en el inicializador y las funciones de activación entregadas también en el inicializador. Al finalizar, tu red debiera generar predicciones en la forma de probabilidades, aplicando la función `softmax`. El resultado del último `softmax` debiera ser un tensor de dimensiones `(B,C)` que es lo que la función debe retornar (donde `C` representa la cantidad de clases a clasificar)."
      ]
    },
    {
      "cell_type": "code",
      "execution_count": null,
      "metadata": {
        "id": "QseFyNzlUuAx"
      },
      "outputs": [],
      "source": [
        "# Tu código debiera continuar así\n",
        "\n",
        "class FFNN(torch.nn.Module):\n",
        "  def __init__(self, F, l_h, l_a, C):\n",
        "    super(FFNN, self).__init__()\n",
        "    pass\n",
        "\n",
        "  def resumen(self):\n",
        "    # Usa self.parameters() o self.named_parameters().\n",
        "    pass\n",
        "\n",
        "  def forward(self, x):\n",
        "    # Usa los parámetros y funciones de activación.\n",
        "    # El valor de retorno debiera ser y = softmax(capa_de_salida).\n",
        "    pass"
      ]
    },
    {
      "cell_type": "markdown",
      "metadata": {
        "id": "VnyrrdzS4ICK"
      },
      "source": [
        "# Parte 3: Probando tu red con parámetros pre-entrenados para MNIST\n",
        "\n",
        "En esta parte usarás la pasada hacia adelante de tu red con parámetros de una red pre-entrenada. La red fue entrenada con el conjunto de datos MNIST que contiene datos de dígitos escritos a mano. La versión original de los datos junto con una descripción del conjunto y resultados para distintos métodos de clasificación, se pueden encontrar en http://yann.lecun.com/exdb/mnist/"
      ]
    },
    {
      "cell_type": "markdown",
      "metadata": {
        "id": "V4YdUVgQIUWK"
      },
      "source": [
        "## 3a) Cargando y visualizando datos de MNIST\n",
        "\n",
        "Esta parte no requiere que escribas código, sólo que te familiarices con el conjunto de datos. Sólo sigue las instrucciones.\n",
        "Primero usaremos el paquete `torchvision` (más algunos otros utilitarios) para descargar y procesar los datos de MNIST."
      ]
    },
    {
      "cell_type": "code",
      "execution_count": null,
      "metadata": {
        "id": "YE1iMUNfIT1r"
      },
      "outputs": [],
      "source": [
        "# Importamos MNIST desde torchvision.\n",
        "from torchvision.datasets import MNIST\n",
        "\n",
        "# Importamos una función para convertir imágenes en tensores.\n",
        "from torchvision.transforms import ToTensor\n",
        "\n",
        "# Importamos funcionalidades útiles para mirar los datos.\n",
        "from matplotlib.pyplot import subplots\n",
        "from random import randint\n",
        "\n",
        "# Descarga y almacena el conjunto de prueba de MNIST.\n",
        "dataset = MNIST('mnist', train=False, transform=ToTensor())\n",
        "print('Cantidad total de datos:',len(dataset))"
      ]
    },
    {
      "cell_type": "markdown",
      "metadata": {
        "id": "XYGe_7Hp5Vy_"
      },
      "source": [
        "Los datos en todo dataset de pytorch se pueden acceder indexándolos como si fueran un arreglo. En el caso de MNIST cada dato es un par que contiene un tensor `T` y un entero `l`, en donde `T` representa a la imágen de un dígito, y `l` representa el valor numérico de ese dígito. Exploremos el primero de estos datos:"
      ]
    },
    {
      "cell_type": "code",
      "execution_count": null,
      "metadata": {
        "id": "YpmhWb6L5xS8"
      },
      "outputs": [],
      "source": [
        "T, l = dataset[0]\n",
        "\n",
        "print('Tensor')\n",
        "print('tipo:', T.type())\n",
        "print('dimensiones:', T.size())\n",
        "print()\n",
        "print('Entero')\n",
        "print('valor:', l)"
      ]
    },
    {
      "cell_type": "markdown",
      "metadata": {
        "id": "uR309L2Q6zrT"
      },
      "source": [
        "El tensor `T` representa una imagen de 28x28 pixeles. Nota que el dato en cuestión tiene una dimensión inicial (es un tensor de 1x28x28). Esto es porque la imagen que estamos considerando está en blanco y negro, por lo tanto tiene un solo canal de color (más adelante usaremos imágenes generales con tres canales y que por lo tanto serán representadas con tensores de dimensiones 3xHxW).\n",
        "\n",
        "El siguiente código muestra el contenido de estos tensores de manera más amigable. Elige tres posiciones al azar y  muestra el valor `l` y el tensor `T` dibujado. Nota como se usa `view(28,28)` para redimensionar el tensor (sacarle la primera dimensión). En este caso también se usa `.numpy()` para pasar el tensor a un formato más amigable para graficar."
      ]
    },
    {
      "cell_type": "code",
      "execution_count": null,
      "metadata": {
        "id": "z-7phemizyd6"
      },
      "outputs": [],
      "source": [
        "# Muestra algunos ejemplos al azar\n",
        "n_ejemplos = 3\n",
        "fig, axs = subplots(nrows=n_ejemplos, figsize=(2,n_ejemplos*3))\n",
        "\n",
        "for i in range(n_ejemplos):\n",
        "  idx = random.randint(0,len(dataset))\n",
        "  T, l = dataset[idx]\n",
        "  img = T.view(28,28).numpy()\n",
        "  axs[i].set_title(\"clase: \"+ str(l))\n",
        "  axs[i].imshow(img)\n",
        "\n",
        "# Note que se usó `view` para redimensionar el tensor, esto porque nuestro\n",
        "# dataloader entrega un tensor de dimensiones (1,1,28,28).\n",
        "# Es muy importante tener este hecho en cuenta en la siguiente parte."
      ]
    },
    {
      "cell_type": "markdown",
      "metadata": {
        "id": "a44A1SkL9uaE"
      },
      "source": [
        "## 3b) Cargando los parámetros pre-entrenados\n",
        "\n",
        "En [este link](https://github.com/dccuchile/CC6204/tree/master/2020/tareas/tarea1/mnist_weights) encontrarás varios archivos de texto que representan los parámetros de una red con 2 capas escondidas que fue pre-entrenada para clasificar los datos de MNIST. La red pre-entrenada tiene esta arquitectura\n",
        "\n",
        "784 --> 32 (relu) --> 16 (relu) --> 10 (softmax)\n",
        "\n",
        "Nota que la cantidad de neuronas en la capa de entrada es 28*28 = 784, esto porque nuestras redes esperan un vector de características como input.\n",
        "\n",
        "Los archivos de parámetros están nombrados como `W1`, `b1`, `W2`, `b2`, `U` y `c` que representan, respectivamente, a $W^{(1)}$, $b^{(1)}$, $W^{(2)}$, $b^{(2)}$, $U$ y $c$ en la descripción genérica que hemos utilizado para nuestras redes neuronales.\n",
        "\n",
        "Supongamos que ya tenemos guardado el archivo `W1.txt`. Para convertir estos archivos en tensores de pytorch, puedes hacer algo como lo siguiente:\n",
        "\n",
        "```python\n",
        "from numpy import loadtxt\n",
        "W1 = torch.from_numpy(loadtxt('W1.txt')).float()\n",
        "```\n",
        "\n",
        "Usa lo anterior para crear una red con la arquitectura descrita y cargar todos los parámetros pre-entrenados en la red. Esto debes hacerlo llamando a un método de inicialización de pesos de tu red. Si no hiciste ese método en las partes anteriores, es el momento de implementarlo."
      ]
    },
    {
      "cell_type": "code",
      "execution_count": null,
      "metadata": {
        "id": "xx_F1Vs09vFS"
      },
      "outputs": [],
      "source": [
        "# Tu código acá"
      ]
    },
    {
      "cell_type": "markdown",
      "metadata": {
        "id": "mHJ1TkNhBIjK"
      },
      "source": [
        "## 3c) Cálcula la predicción de un ejemplo al azar\n",
        "\n",
        "Prueba con un código tan simple como puedas, la predicción que entrega tu red para un ejemplo al azar del conjunto de datos y muestra también la imágen y la clase real del ejemplo."
      ]
    },
    {
      "cell_type": "code",
      "execution_count": null,
      "metadata": {
        "id": "3xWZ19i0BH0a"
      },
      "outputs": [],
      "source": [
        "# Tu código acá"
      ]
    },
    {
      "cell_type": "markdown",
      "metadata": {
        "id": "7R_2hUZjByHI"
      },
      "source": [
        "## 3d) Pasando todos los ejemplos por la red con un `DataLoader`\n",
        "\n",
        "Un `DataLoader` en pytorch es una manera muy útil de entregarle paquetes de ejemplos a una red. Será especialmente útil cuando estemos entrenando. Por ahora lo usaremos sólo para computar la predicción de la red pre-entrenada y calcular el porcentaje de acierto.\n",
        "\n",
        "Para crear un `DataLoader` solo se debe especificar el conjunto de datos que se usará en la forma de un objeto `DataSet`, y el tamaño del paquete de cada paquete que usaremos. En el siguiente código estamos creando un `DataLoader` desde nuestro objeto `dataset` con paquetes de tamaño 100.\n",
        "\n",
        "```python\n",
        "from torch.utils.data import DataLoader\n",
        "dataloader = DataLoader(dataset, batch_size=100)\n",
        "```\n",
        "\n",
        "Una vez creado podemos iterar por todo el dataset haciendo simplemente:\n",
        "\n",
        "```python\n",
        "for x, y in dataloader:\n",
        "  # lo que necesitemos hacer con los datos\n",
        "```\n",
        "\n",
        "En cada iteración `x` será un tensor con 100 ejemplos, por lo tanto tendrá dimensiones 100 x 1 x 28 x 28, e `y` será un tensor con las clases correspondientes a cada uno de esos ejemplos, por lo tanto tendrá dimensión 100 (es un tensor con 100 valores enteros).\n",
        "\n",
        "Escribe una función que use un `DataLoader` para pasar todos los ejemplos por la red en paquetes y calcula el porcentaje total de acierto que la red obtiene en la predicción. Recuerda que el porcentaje total de acierto es la cantidad de ejemplos clasificados correctamente dividido por la cantidad de ejemplos. Tu función debe recibir a la red con los parámetros cargados, el dataset que usarás, el tamaño del batch para pasar por la red y si el trabajo debe hacerse en la GPU o en la CPU. Aprovecha de probar como varía el tiempo de ejecución de tu función si cambias el tamaño del paquete y si usas la GPU vs la CPU."
      ]
    },
    {
      "cell_type": "code",
      "execution_count": null,
      "metadata": {
        "id": "gWdYn-UPGMQf"
      },
      "outputs": [],
      "source": [
        "# Acá tu código\n",
        "def calcula_acierto(red, dataset, batch_size=100, device='cuda'):\n",
        "  pass"
      ]
    },
    {
      "cell_type": "markdown",
      "metadata": {
        "id": "Nz-qtzPmHuti"
      },
      "source": [
        "## 3e) Opcional: Muestra los casos en donde la red se equivoca\n",
        "\n",
        "Muestra imágenes de 5 casos en donde la red se equivoca en la predicción (muestra la imagen y el dígito que la red predice). ¿Es razonable el error que comete?"
      ]
    },
    {
      "cell_type": "code",
      "execution_count": null,
      "metadata": {
        "id": "h4cVRrRwIGt2"
      },
      "outputs": [],
      "source": [
        "# Acá tu código"
      ]
    },
    {
      "cell_type": "markdown",
      "metadata": {
        "id": "Q0P4ECqKAXXp"
      },
      "source": [
        "## 3d) Opcional: Crea tus propios ejemplos de dígitos para clasificar\n",
        "\n",
        "Usa el código en [este link](https://colab.research.google.com/drive/1pdoj2grwFUNa7ZTY5TPefsedY0VDW2_4#scrollTo=8K6u9gS-JXIT) para generar nuevos casos de prueba manualmente y ver cómo lo clasifica la red. Trata de entender en qué casos comete errores."
      ]
    },
    {
      "cell_type": "code",
      "execution_count": null,
      "metadata": {
        "id": "oO1p6G6rA96y"
      },
      "outputs": [],
      "source": [
        "# Acá tu código"
      ]
    },
    {
      "cell_type": "code",
      "execution_count": 100,
      "metadata": {},
      "outputs": [
        {
          "ename": "NameError",
          "evalue": "name 'dksajdakd' is not defined",
          "output_type": "error",
          "traceback": [
            "\u001b[0;31m---------------------------------------------------------------------------\u001b[0m",
            "\u001b[0;31mNameError\u001b[0m                                 Traceback (most recent call last)",
            "Cell \u001b[0;32mIn[100], line 1\u001b[0m\n\u001b[0;32m----> 1\u001b[0m dksajdakd\n",
            "\u001b[0;31mNameError\u001b[0m: name 'dksajdakd' is not defined"
          ]
        }
      ],
      "source": [
        "dksajdakd"
      ]
    },
    {
      "cell_type": "code",
      "execution_count": null,
      "metadata": {},
      "outputs": [],
      "source": []
    },
    {
      "cell_type": "code",
      "execution_count": null,
      "metadata": {},
      "outputs": [],
      "source": []
    },
    {
      "cell_type": "code",
      "execution_count": null,
      "metadata": {},
      "outputs": [],
      "source": []
    },
    {
      "cell_type": "code",
      "execution_count": null,
      "metadata": {},
      "outputs": [],
      "source": []
    },
    {
      "cell_type": "code",
      "execution_count": null,
      "metadata": {},
      "outputs": [],
      "source": []
    },
    {
      "cell_type": "code",
      "execution_count": null,
      "metadata": {},
      "outputs": [],
      "source": []
    },
    {
      "cell_type": "code",
      "execution_count": null,
      "metadata": {},
      "outputs": [],
      "source": []
    },
    {
      "cell_type": "code",
      "execution_count": null,
      "metadata": {},
      "outputs": [],
      "source": []
    },
    {
      "cell_type": "code",
      "execution_count": null,
      "metadata": {},
      "outputs": [],
      "source": []
    },
    {
      "cell_type": "code",
      "execution_count": null,
      "metadata": {},
      "outputs": [],
      "source": []
    },
    {
      "cell_type": "code",
      "execution_count": null,
      "metadata": {},
      "outputs": [],
      "source": []
    },
    {
      "cell_type": "code",
      "execution_count": null,
      "metadata": {},
      "outputs": [],
      "source": []
    },
    {
      "cell_type": "code",
      "execution_count": null,
      "metadata": {},
      "outputs": [],
      "source": []
    },
    {
      "cell_type": "code",
      "execution_count": null,
      "metadata": {},
      "outputs": [],
      "source": []
    },
    {
      "cell_type": "code",
      "execution_count": null,
      "metadata": {},
      "outputs": [],
      "source": []
    },
    {
      "cell_type": "code",
      "execution_count": null,
      "metadata": {},
      "outputs": [],
      "source": []
    },
    {
      "cell_type": "code",
      "execution_count": null,
      "metadata": {},
      "outputs": [],
      "source": []
    },
    {
      "cell_type": "code",
      "execution_count": null,
      "metadata": {},
      "outputs": [],
      "source": []
    },
    {
      "cell_type": "code",
      "execution_count": null,
      "metadata": {},
      "outputs": [],
      "source": []
    },
    {
      "cell_type": "code",
      "execution_count": null,
      "metadata": {},
      "outputs": [],
      "source": []
    },
    {
      "cell_type": "code",
      "execution_count": null,
      "metadata": {},
      "outputs": [],
      "source": []
    },
    {
      "cell_type": "code",
      "execution_count": null,
      "metadata": {},
      "outputs": [],
      "source": []
    },
    {
      "cell_type": "code",
      "execution_count": null,
      "metadata": {},
      "outputs": [],
      "source": []
    },
    {
      "cell_type": "code",
      "execution_count": null,
      "metadata": {},
      "outputs": [],
      "source": []
    },
    {
      "cell_type": "code",
      "execution_count": null,
      "metadata": {},
      "outputs": [],
      "source": []
    },
    {
      "cell_type": "code",
      "execution_count": null,
      "metadata": {},
      "outputs": [],
      "source": []
    },
    {
      "cell_type": "code",
      "execution_count": null,
      "metadata": {},
      "outputs": [],
      "source": []
    },
    {
      "cell_type": "code",
      "execution_count": null,
      "metadata": {},
      "outputs": [],
      "source": []
    },
    {
      "cell_type": "code",
      "execution_count": null,
      "metadata": {},
      "outputs": [],
      "source": []
    }
  ],
  "metadata": {
    "accelerator": "GPU",
    "colab": {
      "provenance": [],
      "toc_visible": true
    },
    "kernelspec": {
      "display_name": "base",
      "language": "python",
      "name": "python3"
    },
    "language_info": {
      "codemirror_mode": {
        "name": "ipython",
        "version": 3
      },
      "file_extension": ".py",
      "mimetype": "text/x-python",
      "name": "python",
      "nbconvert_exporter": "python",
      "pygments_lexer": "ipython3",
      "version": "3.12.7"
    }
  },
  "nbformat": 4,
  "nbformat_minor": 0
}
